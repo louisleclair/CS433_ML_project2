{
 "cells": [
  {
   "cell_type": "code",
   "execution_count": 210,
   "metadata": {},
   "outputs": [],
   "source": [
    "%matplotlib inline\n",
    "from mpl_toolkits.mplot3d import Axes3D\n",
    "import torch\n",
    "import torch.nn as nn\n",
    "import torchvision\n",
    "import numpy as np\n",
    "import matplotlib.pyplot as plt\n",
    "import pathlib\n",
    "import pandas as pd\n",
    "import xgboost as xgb\n",
    "from xgboost.sklearn import XGBRegressor\n",
    "from sklearn.metrics import mean_squared_error"
   ]
  },
  {
   "cell_type": "code",
   "execution_count": 180,
   "metadata": {},
   "outputs": [
    {
     "name": "stdout",
     "output_type": "stream",
     "text": [
      "(29297, 9)\n",
      "(31254, 9)\n",
      "(32227, 9)\n",
      "(33205, 9)\n",
      "(32228, 9)\n",
      "(30276, 9)\n",
      "(31250, 9)\n",
      "(31250, 9)\n",
      "(25934, 9)\n",
      "(30280, 9)\n",
      "(31250, 9)\n",
      "(31251, 9)\n",
      "(31251, 9)\n",
      "(32228, 9)\n",
      "(31251, 9)\n",
      "(30275, 9)\n",
      "summation = 494707\n"
     ]
    }
   ],
   "source": [
    "datas = []\n",
    "entries = pathlib.Path('data/')\n",
    "summation = 0\n",
    "\n",
    "for entry in entries.iterdir():\n",
    "    data = np.genfromtxt(entry, delimiter=',')\n",
    "    summation += data.shape[0]\n",
    "    print(data.shape)\n",
    "    mean_data, std_data = np.mean(data, axis=0), np.std(data, axis=0)\n",
    "    normalize_data = (data - mean_data)/std_data\n",
    "    data = torch.from_numpy(normalize_data)\n",
    "    datas.append(data)\n",
    "\n",
    "print('summation =',summation)"
   ]
  },
  {
   "cell_type": "code",
   "execution_count": 181,
   "metadata": {},
   "outputs": [],
   "source": [
    "df = pd.read_csv('data/Output-S2-1.csv', header=None)\n",
    "df = df.dropna(axis=0)"
   ]
  },
  {
   "cell_type": "code",
   "execution_count": 182,
   "metadata": {},
   "outputs": [
    {
     "data": {
      "image/png": "[encoded data removed]",
      "text/plain": [
       "<Figure size 288x288 with 2 Axes>"
      ]
     },
     "metadata": {
      "needs_background": "light"
     },
     "output_type": "display_data"
    }
   ],
   "source": [
    "def show_heatmap(data):\n",
    "    plt.matshow(data.corr())\n",
    "    plt.xticks(range(data.shape[1]), data.columns, fontsize=14, rotation=90)\n",
    "    plt.gca().xaxis.tick_bottom()\n",
    "    plt.yticks(range(data.shape[1]), data.columns, fontsize=14)\n",
    "\n",
    "    cb = plt.colorbar()\n",
    "    cb.ax.tick_params(labelsize=14)\n",
    "    plt.title(\"Feature Correlation Heatmap\", fontsize=14)\n",
    "    plt.show()\n",
    "\n",
    "\n",
    "show_heatmap(df)"
   ]
  },
  {
   "cell_type": "code",
   "execution_count": 183,
   "metadata": {},
   "outputs": [
    {
     "name": "stdout",
     "output_type": "stream",
     "text": [
      "mean = 0.595 || std = 0.052008333333333344\n"
     ]
    },
    {
     "data": {
      "image/png": "[encoded data removed]",
      "text/plain": [
       "<Figure size 432x288 with 1 Axes>"
      ]
     },
     "metadata": {
      "needs_background": "light"
     },
     "output_type": "display_data"
    }
   ],
   "source": [
    "x0 = df.iloc[:10000, 0].values\n",
    "n, bins, patches = plt.hist(x0, 30, density=1, facecolor='r', alpha=0.5)\n",
    "a = 0.2\n",
    "b = 0.99\n",
    "mean = (a + b)/2\n",
    "std = (b - a)**2/12\n",
    "print('mean =',mean,'||','std =', std)"
   ]
  },
  {
   "cell_type": "code",
   "execution_count": 184,
   "metadata": {
    "scrolled": false
   },
   "outputs": [
    {
     "name": "stdout",
     "output_type": "stream",
     "text": [
      "mean = 0.595 || std = 0.052008333333333344\n"
     ]
    },
    {
     "data": {
      "image/png": "[encoded data removed]",
      "text/plain": [
       "<Figure size 432x288 with 1 Axes>"
      ]
     },
     "metadata": {
      "needs_background": "light"
     },
     "output_type": "display_data"
    }
   ],
   "source": [
    "x1 = df.iloc[:10000, 1].values\n",
    "n, bins, patches = plt.hist(x1, 30, density=1, facecolor='r', alpha=0.5)\n",
    "a = 0.2\n",
    "b = 0.99\n",
    "mean = (a + b)/2\n",
    "std = (b - a)**2/12\n",
    "print('mean =',mean,'||','std =', std)"
   ]
  },
  {
   "cell_type": "code",
   "execution_count": 185,
   "metadata": {},
   "outputs": [
    {
     "name": "stdout",
     "output_type": "stream",
     "text": [
      "mean = 0.4 || std = 0.12\n"
     ]
    },
    {
     "data": {
      "image/png": "[encoded data removed]",
      "text/plain": [
       "<Figure size 432x288 with 1 Axes>"
      ]
     },
     "metadata": {
      "needs_background": "light"
     },
     "output_type": "display_data"
    }
   ],
   "source": [
    "x2 = df.iloc[:10000, 2].values\n",
    "n, bins, patches = plt.hist(x2, 30, density=1, facecolor='r', alpha=0.5)\n",
    "a = -0.2\n",
    "b = 1\n",
    "mean = (a + b)/2\n",
    "std = (b - a)**2/12\n",
    "print('mean =',mean,'||','std =', std)"
   ]
  },
  {
   "cell_type": "code",
   "execution_count": 186,
   "metadata": {},
   "outputs": [
    {
     "name": "stdout",
     "output_type": "stream",
     "text": [
      "mean = 0.505 || std = 0.081675\n"
     ]
    },
    {
     "data": {
      "image/png": "[encoded data removed]",
      "text/plain": [
       "<Figure size 432x288 with 1 Axes>"
      ]
     },
     "metadata": {
      "needs_background": "light"
     },
     "output_type": "display_data"
    }
   ],
   "source": [
    "x3 = df.iloc[:10000, 3].values\n",
    "n, bins, patches = plt.hist(x3, 30, density=1, facecolor='r', alpha=0.5)\n",
    "a = 0.01\n",
    "b = 1\n",
    "mean = (a + b)/2\n",
    "std = (b - a)**2/12\n",
    "print('mean =',mean,'||','std =', std)"
   ]
  },
  {
   "cell_type": "code",
   "execution_count": 187,
   "metadata": {},
   "outputs": [
    {
     "data": {
      "image/png": "[encoded data removed]",
      "text/plain": [
       "<Figure size 432x288 with 1 Axes>"
      ]
     },
     "metadata": {
      "needs_background": "light"
     },
     "output_type": "display_data"
    },
    {
     "name": "stdout",
     "output_type": "stream",
     "text": [
      "mean = 2.4 || std = 0.8533333333333335\n"
     ]
    }
   ],
   "source": [
    "x4 = df.iloc[:10000, 4].values\n",
    "x5 = df.iloc[:10000, 5].values\n",
    "fig = plt.figure()\n",
    "\n",
    "ax = fig.add_subplot(111, projection='3d')\n",
    "hist, xedges, yedges = np.histogram2d(x4, x5, bins=75, range=[[0.8, 4], [0.8, 4]])\n",
    "\n",
    "xpos, ypos = np.meshgrid(xedges[:-1] + 0.25, yedges[:-1] + 0.25, indexing=\"ij\")\n",
    "xpos = xpos.ravel()\n",
    "ypos = ypos.ravel()\n",
    "zpos = 0\n",
    "\n",
    "# Construct arrays with the dimensions for the 16 bars.\n",
    "dx = dy = 0.5 * np.ones_like(zpos)\n",
    "dz = hist.ravel()\n",
    "\n",
    "ax.bar3d(xpos, ypos, zpos, dx, dy, dz, zsort='average')\n",
    "plt.show()\n",
    "\n",
    "a = 0.8\n",
    "b = 4\n",
    "mean = (a + b)/2\n",
    "std = (b - a)**2/12\n",
    "print('mean =',mean,'||','std =', std)"
   ]
  },
  {
   "cell_type": "code",
   "execution_count": 188,
   "metadata": {},
   "outputs": [
    {
     "name": "stdout",
     "output_type": "stream",
     "text": [
      "mean = 0.4 || std = 0.12\n"
     ]
    },
    {
     "data": {
      "image/png": "[encoded data removed]",
      "text/plain": [
       "<Figure size 432x288 with 1 Axes>"
      ]
     },
     "metadata": {
      "needs_background": "light"
     },
     "output_type": "display_data"
    }
   ],
   "source": [
    "x6 = df.iloc[:10000, 6].values\n",
    "n, bins, patches = plt.hist(x6, 30, density=1, facecolor='r', alpha=0.5)\n",
    "a = -0.2\n",
    "b = 1\n",
    "mean = (a + b)/2\n",
    "std = (b - a)**2/12\n",
    "print('mean =',mean,'||','std =', std)"
   ]
  },
  {
   "cell_type": "code",
   "execution_count": 189,
   "metadata": {
    "scrolled": true
   },
   "outputs": [
    {
     "name": "stdout",
     "output_type": "stream",
     "text": [
      "mean = 0.505 || std = 0.081675\n"
     ]
    },
    {
     "data": {
      "image/png": "[encoded data removed]",
      "text/plain": [
       "<Figure size 432x288 with 1 Axes>"
      ]
     },
     "metadata": {
      "needs_background": "light"
     },
     "output_type": "display_data"
    }
   ],
   "source": [
    "x7 = df.iloc[:10000, 7].values\n",
    "n, bins, patches = plt.hist(x7, 30, density=1, facecolor='r', alpha=0.5)\n",
    "a = 0.01\n",
    "b = 1\n",
    "mean = (a + b)/2\n",
    "std = (b - a)**2/12\n",
    "print('mean =',mean,'||','std =', std)"
   ]
  },
  {
   "cell_type": "code",
   "execution_count": 196,
   "metadata": {
    "scrolled": true
   },
   "outputs": [
    {
     "name": "stdout",
     "output_type": "stream",
     "text": [
      "(31249, 9)\n",
      "(24999, 9)\n",
      "(6250, 9)\n"
     ]
    }
   ],
   "source": [
    "train_ratio = 0.80\n",
    "i = int(df.shape[0] * train_ratio)\n",
    "print(df.shape)\n",
    "train_set =  df[0:i]\n",
    "test_set  =  df[i:] \n",
    "print(train_set.shape)\n",
    "print(test_set.shape)\n",
    "\n",
    "x_train = torch.from_numpy(train_set.iloc[:,0:8].values)\n",
    "y_train = torch.from_numpy(train_set.iloc[:,-1].values)\n",
    "\n",
    "x_test = torch.from_numpy(test_set.iloc[:,0:8].values)\n",
    "y_test = torch.from_numpy(test_set.iloc[:,-1].values)"
   ]
  },
  {
   "cell_type": "code",
   "execution_count": 197,
   "metadata": {},
   "outputs": [],
   "source": [
    "# Definition of some hyperparameters taken from lab10\n",
    "learning_rate = 1e-3\n",
    "num_epochs = 1\n",
    "batch_size = 1000\n",
    "\n",
    "dataset_train_tensor = torch.utils.data.TensorDataset(x_train.float(), y_train.float())\n",
    "dataset_test_tensor= torch.utils.data.TensorDataset(x_test.float(), y_test.float())\n",
    "\n",
    "dataset_train = torch.utils.data.DataLoader(dataset_train_tensor, batch_size=batch_size)\n",
    "dataset_test = torch.utils.data.DataLoader(dataset_test_tensor, batch_size=100)"
   ]
  },
  {
   "cell_type": "code",
   "execution_count": 198,
   "metadata": {},
   "outputs": [],
   "source": [
    "def accuracy(predicted_logits, reference):\n",
    "    labels = torch.argmax(predicted_logits, 1)\n",
    "    correct_predictions = labels.eq(reference)\n",
    "    return correct_predictions.sum().float() / correct_predictions.nelement()"
   ]
  },
  {
   "cell_type": "code",
   "execution_count": 199,
   "metadata": {},
   "outputs": [],
   "source": [
    "# Taken from lab10\n",
    "def train(model, criterion, dataset_train, dataset_test, optimizer, num_epochs):\n",
    "    print(\"Starting training\")\n",
    "    for epoch in range(num_epochs):\n",
    "    # Train an epoch\n",
    "        model.train()\n",
    "        for batch_x, batch_y in dataset_train:\n",
    "            batch_x, batch_y = batch_x.to(device), batch_y.to(device)\n",
    "\n",
    "            # Evaluate the network (forward pass)\n",
    "            prediction = model(batch_x)\n",
    "            loss = criterion(prediction, batch_y)\n",
    "\n",
    "            # Compute the gradient\n",
    "            optimizer.zero_grad()\n",
    "            loss.backward()\n",
    "\n",
    "            # Update the parameters of the model with a gradient step\n",
    "            optimizer.step()\n",
    "\n",
    "    # Test the quality on the test set\n",
    "    model.eval()\n",
    "    accuracies_test = []\n",
    "    for batch_x, batch_y in dataset_test:\n",
    "        batch_x, batch_y = batch_x.to(device), batch_y.to(device)\n",
    "\n",
    "        # Evaluate the network (forward pass)\n",
    "        prediction = model(batch_x)\n",
    "        #accuracies_test.append(accuracy(prediction, batch_y))\n",
    "\n",
    "    #print(\"Epoch {} | Test accuracy: {:.5f}\".format(epoch, sum(accuracies_test).item()/len(accuracies_test)))\n",
    "class OTCmodel(nn.Module):\n",
    "    def _init_(self):\n",
    "        super()._init_()\n",
    "        # For the moment i just used the architecture of LeNet because i have no idea where to start :)\n",
    "        self.conv1 = nn.Conv1d(1, 30, kernel_size=3, padding=1)\n",
    "        self.conv2 = nn.Conv1d(30, 60, kernel_size=3, padding=1)\n",
    "        self.fc1 = nn.Linear(120, 20)\n",
    "        self.conv_drop = torch.nn.Dropout()\n",
    "        self.fc2 = nn.Linear(20, 1)\n",
    "  \n",
    "    def forward(self, x):\n",
    "        relu = nn.functional.relu\n",
    "        max_pool1d = torch.nn.functional.max_pool1d\n",
    "\n",
    "        x = relu(max_pool1d(self.conv1(x), 2))\n",
    "        print(x)\n",
    "        x = relu(max_pool1d(self.conv_drop(self.conv2(x)), 2))\n",
    "        x = x.view(-1, 120)\n",
    "        x = relu(self.fc1(x))\n",
    "        x = self.fc2(x)\n",
    "        return x"
   ]
  },
  {
   "cell_type": "code",
   "execution_count": 200,
   "metadata": {},
   "outputs": [
    {
     "ename": "ValueError",
     "evalue": "optimizer got an empty parameter list",
     "output_type": "error",
     "traceback": [
      "\u001b[0;31m---------------------------------------------------------------------------\u001b[0m",
      "\u001b[0;31mValueError\u001b[0m                                Traceback (most recent call last)",
      "\u001b[0;32m<ipython-input-200-1163f2e799e7>\u001b[0m in \u001b[0;36m<module>\u001b[0;34m\u001b[0m\n\u001b[1;32m      5\u001b[0m \u001b[0;31m# Defining the loss function and the optimizer the best to use is adam()\u001b[0m\u001b[0;34m\u001b[0m\u001b[0;34m\u001b[0m\u001b[0;34m\u001b[0m\u001b[0m\n\u001b[1;32m      6\u001b[0m \u001b[0mcriterion\u001b[0m \u001b[0;34m=\u001b[0m \u001b[0mnn\u001b[0m\u001b[0;34m.\u001b[0m\u001b[0mL1Loss\u001b[0m\u001b[0;34m(\u001b[0m\u001b[0;34m)\u001b[0m\u001b[0;34m\u001b[0m\u001b[0;34m\u001b[0m\u001b[0m\n\u001b[0;32m----> 7\u001b[0;31m \u001b[0moptimizer\u001b[0m \u001b[0;34m=\u001b[0m \u001b[0mtorch\u001b[0m\u001b[0;34m.\u001b[0m\u001b[0moptim\u001b[0m\u001b[0;34m.\u001b[0m\u001b[0mAdam\u001b[0m\u001b[0;34m(\u001b[0m\u001b[0mmodel_otc\u001b[0m\u001b[0;34m.\u001b[0m\u001b[0mparameters\u001b[0m\u001b[0;34m(\u001b[0m\u001b[0;34m)\u001b[0m\u001b[0;34m,\u001b[0m \u001b[0mlr\u001b[0m\u001b[0;34m=\u001b[0m\u001b[0mlearning_rate\u001b[0m\u001b[0;34m)\u001b[0m\u001b[0;34m\u001b[0m\u001b[0;34m\u001b[0m\u001b[0m\n\u001b[0m\u001b[1;32m      8\u001b[0m \u001b[0;34m\u001b[0m\u001b[0m\n\u001b[1;32m      9\u001b[0m \u001b[0;31m# training\u001b[0m\u001b[0;34m\u001b[0m\u001b[0;34m\u001b[0m\u001b[0;34m\u001b[0m\u001b[0m\n",
      "\u001b[0;32m~/opt/anaconda3/envs/ml_class/lib/python3.8/site-packages/torch/optim/adam.py\u001b[0m in \u001b[0;36m__init__\u001b[0;34m(self, params, lr, betas, eps, weight_decay, amsgrad)\u001b[0m\n\u001b[1;32m     42\u001b[0m         defaults = dict(lr=lr, betas=betas, eps=eps,\n\u001b[1;32m     43\u001b[0m                         weight_decay=weight_decay, amsgrad=amsgrad)\n\u001b[0;32m---> 44\u001b[0;31m         \u001b[0msuper\u001b[0m\u001b[0;34m(\u001b[0m\u001b[0mAdam\u001b[0m\u001b[0;34m,\u001b[0m \u001b[0mself\u001b[0m\u001b[0;34m)\u001b[0m\u001b[0;34m.\u001b[0m\u001b[0m__init__\u001b[0m\u001b[0;34m(\u001b[0m\u001b[0mparams\u001b[0m\u001b[0;34m,\u001b[0m \u001b[0mdefaults\u001b[0m\u001b[0;34m)\u001b[0m\u001b[0;34m\u001b[0m\u001b[0;34m\u001b[0m\u001b[0m\n\u001b[0m\u001b[1;32m     45\u001b[0m \u001b[0;34m\u001b[0m\u001b[0m\n\u001b[1;32m     46\u001b[0m     \u001b[0;32mdef\u001b[0m \u001b[0m__setstate__\u001b[0m\u001b[0;34m(\u001b[0m\u001b[0mself\u001b[0m\u001b[0;34m,\u001b[0m \u001b[0mstate\u001b[0m\u001b[0;34m)\u001b[0m\u001b[0;34m:\u001b[0m\u001b[0;34m\u001b[0m\u001b[0;34m\u001b[0m\u001b[0m\n",
      "\u001b[0;32m~/opt/anaconda3/envs/ml_class/lib/python3.8/site-packages/torch/optim/optimizer.py\u001b[0m in \u001b[0;36m__init__\u001b[0;34m(self, params, defaults)\u001b[0m\n\u001b[1;32m     44\u001b[0m         \u001b[0mparam_groups\u001b[0m \u001b[0;34m=\u001b[0m \u001b[0mlist\u001b[0m\u001b[0;34m(\u001b[0m\u001b[0mparams\u001b[0m\u001b[0;34m)\u001b[0m\u001b[0;34m\u001b[0m\u001b[0;34m\u001b[0m\u001b[0m\n\u001b[1;32m     45\u001b[0m         \u001b[0;32mif\u001b[0m \u001b[0mlen\u001b[0m\u001b[0;34m(\u001b[0m\u001b[0mparam_groups\u001b[0m\u001b[0;34m)\u001b[0m \u001b[0;34m==\u001b[0m \u001b[0;36m0\u001b[0m\u001b[0;34m:\u001b[0m\u001b[0;34m\u001b[0m\u001b[0;34m\u001b[0m\u001b[0m\n\u001b[0;32m---> 46\u001b[0;31m             \u001b[0;32mraise\u001b[0m \u001b[0mValueError\u001b[0m\u001b[0;34m(\u001b[0m\u001b[0;34m\"optimizer got an empty parameter list\"\u001b[0m\u001b[0;34m)\u001b[0m\u001b[0;34m\u001b[0m\u001b[0;34m\u001b[0m\u001b[0m\n\u001b[0m\u001b[1;32m     47\u001b[0m         \u001b[0;32mif\u001b[0m \u001b[0;32mnot\u001b[0m \u001b[0misinstance\u001b[0m\u001b[0;34m(\u001b[0m\u001b[0mparam_groups\u001b[0m\u001b[0;34m[\u001b[0m\u001b[0;36m0\u001b[0m\u001b[0;34m]\u001b[0m\u001b[0;34m,\u001b[0m \u001b[0mdict\u001b[0m\u001b[0;34m)\u001b[0m\u001b[0;34m:\u001b[0m\u001b[0;34m\u001b[0m\u001b[0;34m\u001b[0m\u001b[0m\n\u001b[1;32m     48\u001b[0m             \u001b[0mparam_groups\u001b[0m \u001b[0;34m=\u001b[0m \u001b[0;34m[\u001b[0m\u001b[0;34m{\u001b[0m\u001b[0;34m'params'\u001b[0m\u001b[0;34m:\u001b[0m \u001b[0mparam_groups\u001b[0m\u001b[0;34m}\u001b[0m\u001b[0;34m]\u001b[0m\u001b[0;34m\u001b[0m\u001b[0;34m\u001b[0m\u001b[0m\n",
      "\u001b[0;31mValueError\u001b[0m: optimizer got an empty parameter list"
     ]
    }
   ],
   "source": [
    "# If a GPU is available use cuda else use cpu\n",
    "device = torch.device('cuda' if torch.cuda.is_available() else 'cpu')\n",
    "model_otc = OTCmodel().to(device)\n",
    "\n",
    "# Defining the loss function and the optimizer the best to use is adam()\n",
    "criterion = nn.L1Loss()\n",
    "optimizer = torch.optim.Adam(model_otc.parameters(), lr=learning_rate)\n",
    "\n",
    "# training\n",
    "train(model_otc, criterion, dataset_train, dataset_test, optimizer, num_epochs)\n"
   ]
  },
  {
   "cell_type": "markdown",
   "metadata": {},
   "source": [
    "# Testing with XGboost"
   ]
  },
  {
   "cell_type": "code",
   "execution_count": 208,
   "metadata": {},
   "outputs": [
    {
     "data": {
      "text/plain": [
       "XGBRegressor(base_score=0.5, booster='gbtree', colsample_bylevel=1,\n",
       "             colsample_bynode=1, colsample_bytree=1, gamma=0, gpu_id=-1,\n",
       "             importance_type='gain', interaction_constraints='',\n",
       "             learning_rate=0.300000012, max_delta_step=0, max_depth=6,\n",
       "             min_child_weight=1, missing=nan, monotone_constraints='()',\n",
       "             n_estimators=100, n_jobs=0, num_parallel_tree=1, random_state=0,\n",
       "             reg_alpha=0, reg_lambda=1, scale_pos_weight=1, subsample=1,\n",
       "             tree_method='exact', validate_parameters=1, verbosity=0)"
      ]
     },
     "execution_count": 208,
     "metadata": {},
     "output_type": "execute_result"
    }
   ],
   "source": [
    "x_train = train_set.iloc[:,0:8].values\n",
    "y_train = train_set.iloc[:,-1].values\n",
    "x_test = test_set.iloc[:,0:8].values\n",
    "y_test = test_set.iloc[:,-1].values\n",
    "xgbr = XGBRegressor(verbosity=0)\n",
    "xgbr.fit(x_train, y_train)"
   ]
  },
  {
   "cell_type": "code",
   "execution_count": 209,
   "metadata": {},
   "outputs": [
    {
     "name": "stdout",
     "output_type": "stream",
     "text": [
      "MSE: 11.35\n"
     ]
    }
   ],
   "source": [
    "ypred_x = xgbr.predict(x_test)\n",
    "mse_x = mean_squared_error(y_test, ypred_x)\n",
    "print(\"MSE: %.2f\" % mse_x)"
   ]
  },
  {
   "cell_type": "code",
   "execution_count": null,
   "metadata": {},
   "outputs": [],
   "source": []
  }
 ],
 "metadata": {
  "kernelspec": {
   "display_name": "Python 3",
   "language": "python",
   "name": "python3"
  }
 },
 "nbformat": 4,
 "nbformat_minor": 4
}
