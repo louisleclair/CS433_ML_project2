{
 "cells": [
  {
   "cell_type": "code",
   "execution_count": 21,
   "metadata": {},
   "outputs": [],
   "source": [
    "%matplotlib inline\n",
    "import torch\n",
    "import torchvision\n",
    "import numpy as np\n",
    "import matplotlib.pyplot as plt\n",
    "import pathlib"
   ]
  },
  {
   "cell_type": "code",
   "execution_count": 51,
   "metadata": {},
   "outputs": [],
   "source": [
    "datas = []\n",
    "entries = pathlib.Path('data/')\n",
    "\n",
    "for entry in entries.iterdir():\n",
    "    data = np.genfromtxt(entry, delimiter=',')\n",
    "    mean_data, std_data = np.mean(data, axis=0), np.std(data, axis=0)\n",
    "    normalize_data = (data - mean_data)/std_data\n",
    "    data = torch.from_numpy(normalize_data)\n",
    "    datas.append(data)"
   ]
  }
 ],
 "metadata": {
  "kernelspec": {
   "display_name": "Python 3",
   "language": "python",
   "name": "python3"
  },
  "language_info": {
   "codemirror_mode": {
    "name": "ipython",
    "version": 3
   },
   "file_extension": ".py",
   "mimetype": "text/x-python",
   "name": "python",
   "nbconvert_exporter": "python",
   "pygments_lexer": "ipython3",
   "version": "3.8.3"
  }
 },
 "nbformat": 4,
 "nbformat_minor": 4
}
